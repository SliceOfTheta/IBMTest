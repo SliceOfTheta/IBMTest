{
 "cells": [
  {
   "cell_type": "markdown",
   "id": "b78f9874-8a21-46e1-8239-6b2ae27f80ab",
   "metadata": {},
   "source": [
    "Hello, my name is alex"
   ]
  },
  {
   "cell_type": "code",
   "execution_count": null,
   "id": "ca9f9511-d1fc-4d17-b039-14fa5398f775",
   "metadata": {},
   "outputs": [],
   "source": [
    "print(\"I am coding from Jupyter Lab\")"
   ]
  }
 ],
 "metadata": {
  "kernelspec": {
   "display_name": "Python 3 (ipykernel)",
   "language": "python",
   "name": "python3"
  },
  "language_info": {
   "codemirror_mode": {
    "name": "ipython",
    "version": 3
   },
   "file_extension": ".py",
   "mimetype": "text/x-python",
   "name": "python",
   "nbconvert_exporter": "python",
   "pygments_lexer": "ipython3",
   "version": "3.9.7"
  }
 },
 "nbformat": 4,
 "nbformat_minor": 5
}
